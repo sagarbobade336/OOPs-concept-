{
  "nbformat": 4,
  "nbformat_minor": 0,
  "metadata": {
    "colab": {
      "provenance": []
    },
    "kernelspec": {
      "name": "python3",
      "display_name": "Python 3"
    },
    "language_info": {
      "name": "python"
    }
  },
  "cells": [
    {
      "cell_type": "markdown",
      "source": [
        " Inheritance:\n",
        "\n",
        "Inheritance allows a class to inherit attributes and methods from another class."
      ],
      "metadata": {
        "id": "5PrK7Mh8HlCi"
      }
    },
    {
      "cell_type": "code",
      "source": [
        "class Animal:  # Parent class\n",
        "    def speak(self):\n",
        "        return \"Animal sound\"\n",
        "\n",
        "class Dog(Animal):  # Child class\n",
        "    def speak(self):  # Overriding parent method\n",
        "        return \"Woof!\"\n",
        "\n",
        "dog = Dog()\n",
        "print(dog.speak())"
      ],
      "metadata": {
        "colab": {
          "base_uri": "https://localhost:8080/"
        },
        "id": "NSfKSQAoHr-S",
        "outputId": "6a2b9492-335d-485a-eb16-15020e6d5d97"
      },
      "execution_count": 2,
      "outputs": [
        {
          "output_type": "stream",
          "name": "stdout",
          "text": [
            "Woof!\n"
          ]
        }
      ]
    },
    {
      "cell_type": "code",
      "source": [],
      "metadata": {
        "id": "4f6O_FqXIEoa"
      },
      "execution_count": null,
      "outputs": []
    }
  ]
}