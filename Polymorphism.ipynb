{
  "nbformat": 4,
  "nbformat_minor": 0,
  "metadata": {
    "colab": {
      "provenance": []
    },
    "kernelspec": {
      "name": "python3",
      "display_name": "Python 3"
    },
    "language_info": {
      "name": "python"
    }
  },
  "cells": [
    {
      "cell_type": "markdown",
      "source": [
        " Polymorphism:\n",
        "\n",
        "Polymorphism allows methods to behave differently based on the object they are called on."
      ],
      "metadata": {
        "id": "5PrK7Mh8HlCi"
      }
    },
    {
      "cell_type": "code",
      "source": [
        "class Bird:\n",
        "    def sound(self):\n",
        "        return \"Chirp!\"\n",
        "\n",
        "class Duck(Bird):\n",
        "    def sound(self):  # Overriding method\n",
        "        return \"Quack!\"\n",
        "\n",
        "# Polymorphism in action\n",
        "def make_sound(animal):\n",
        "    print(animal.sound())\n",
        "\n",
        "\n",
        "bird = Bird()\n",
        "duck = Duck()\n",
        "\n",
        "make_sound(bird)\n",
        "make_sound(duck)\n"
      ],
      "metadata": {
        "colab": {
          "base_uri": "https://localhost:8080/"
        },
        "id": "56PSX1QjJLRJ",
        "outputId": "11ffa516-e996-4fd3-c017-7bf17c8307d2"
      },
      "execution_count": 5,
      "outputs": [
        {
          "output_type": "stream",
          "name": "stdout",
          "text": [
            "Chirp!\n",
            "Quack!\n"
          ]
        }
      ]
    },
    {
      "cell_type": "code",
      "source": [],
      "metadata": {
        "id": "4f6O_FqXIEoa"
      },
      "execution_count": null,
      "outputs": []
    }
  ]
}